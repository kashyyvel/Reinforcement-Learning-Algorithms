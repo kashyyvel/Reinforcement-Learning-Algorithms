{
 "cells": [
  {
   "cell_type": "code",
   "execution_count": 1,
   "id": "d32aada2-0f42-4fff-8c50-1be6826b6382",
   "metadata": {},
   "outputs": [
    {
     "data": {
      "text/html": [
       "<div>\n",
       "<style scoped>\n",
       "    .dataframe tbody tr th:only-of-type {\n",
       "        vertical-align: middle;\n",
       "    }\n",
       "\n",
       "    .dataframe tbody tr th {\n",
       "        vertical-align: top;\n",
       "    }\n",
       "\n",
       "    .dataframe thead th {\n",
       "        text-align: right;\n",
       "    }\n",
       "</style>\n",
       "<table border=\"1\" class=\"dataframe\">\n",
       "  <thead>\n",
       "    <tr style=\"text-align: right;\">\n",
       "      <th></th>\n",
       "      <th>Angles</th>\n",
       "      <th>Probabilities</th>\n",
       "      <th>Reward</th>\n",
       "      <th>Count</th>\n",
       "    </tr>\n",
       "  </thead>\n",
       "  <tbody>\n",
       "    <tr>\n",
       "      <th>0</th>\n",
       "      <td>70</td>\n",
       "      <td>0.1</td>\n",
       "      <td>0</td>\n",
       "      <td>0</td>\n",
       "    </tr>\n",
       "    <tr>\n",
       "      <th>1</th>\n",
       "      <td>75</td>\n",
       "      <td>0.1</td>\n",
       "      <td>0</td>\n",
       "      <td>0</td>\n",
       "    </tr>\n",
       "    <tr>\n",
       "      <th>2</th>\n",
       "      <td>80</td>\n",
       "      <td>0.1</td>\n",
       "      <td>0</td>\n",
       "      <td>0</td>\n",
       "    </tr>\n",
       "    <tr>\n",
       "      <th>3</th>\n",
       "      <td>85</td>\n",
       "      <td>0.1</td>\n",
       "      <td>0</td>\n",
       "      <td>0</td>\n",
       "    </tr>\n",
       "    <tr>\n",
       "      <th>4</th>\n",
       "      <td>90</td>\n",
       "      <td>0.1</td>\n",
       "      <td>0</td>\n",
       "      <td>0</td>\n",
       "    </tr>\n",
       "    <tr>\n",
       "      <th>5</th>\n",
       "      <td>95</td>\n",
       "      <td>0.1</td>\n",
       "      <td>0</td>\n",
       "      <td>0</td>\n",
       "    </tr>\n",
       "    <tr>\n",
       "      <th>6</th>\n",
       "      <td>100</td>\n",
       "      <td>0.1</td>\n",
       "      <td>0</td>\n",
       "      <td>0</td>\n",
       "    </tr>\n",
       "    <tr>\n",
       "      <th>7</th>\n",
       "      <td>105</td>\n",
       "      <td>0.1</td>\n",
       "      <td>0</td>\n",
       "      <td>0</td>\n",
       "    </tr>\n",
       "    <tr>\n",
       "      <th>8</th>\n",
       "      <td>110</td>\n",
       "      <td>0.1</td>\n",
       "      <td>0</td>\n",
       "      <td>0</td>\n",
       "    </tr>\n",
       "  </tbody>\n",
       "</table>\n",
       "</div>"
      ],
      "text/plain": [
       "   Angles  Probabilities  Reward  Count\n",
       "0      70            0.1       0      0\n",
       "1      75            0.1       0      0\n",
       "2      80            0.1       0      0\n",
       "3      85            0.1       0      0\n",
       "4      90            0.1       0      0\n",
       "5      95            0.1       0      0\n",
       "6     100            0.1       0      0\n",
       "7     105            0.1       0      0\n",
       "8     110            0.1       0      0"
      ]
     },
     "execution_count": 1,
     "metadata": {},
     "output_type": "execute_result"
    }
   ],
   "source": [
    "import matplotlib.pyplot as plt\n",
    "import numpy as np \n",
    "import pandas as pd\n",
    "notions = pd.DataFrame({\"Angles\":np.arange(70,115,5),\"Probabilities\":1/10,\"Reward\":0,\"Count\":0})\n",
    "notions"
   ]
  },
  {
   "cell_type": "code",
   "execution_count": 2,
   "id": "9d2284dd-a315-488d-ad95-c4c7d64465d8",
   "metadata": {},
   "outputs": [],
   "source": [
    "def stable_configuration_time(angle):\n",
    "    if angle==90:\n",
    "        return abs(np.random.normal(14,3))\n",
    "    else:\n",
    "        diff = abs (90 - angle) \n",
    "        diff_r = 1/diff * 45\n",
    "        return abs(np.random.normal(diff_r,2))"
   ]
  },
  {
   "cell_type": "code",
   "execution_count": 3,
   "id": "d258bda3-4202-4ca4-9166-d64c6d80d147",
   "metadata": {},
   "outputs": [],
   "source": [
    "def rewards(time):\n",
    "    return np.random.normal(time)"
   ]
  },
  {
   "cell_type": "code",
   "execution_count": 10,
   "id": "e36d5459-bcf4-4d4f-94ec-9064fde13805",
   "metadata": {},
   "outputs": [
    {
     "name": "stderr",
     "output_type": "stream",
     "text": [
      "C:\\Users\\kashy\\AppData\\Local\\Temp\\ipykernel_21144\\1275643685.py:5: FutureWarning: Setting an item of incompatible dtype is deprecated and will raise an error in a future version of pandas. Value '[4.06067794]' has dtype incompatible with int64, please explicitly cast to a compatible dtype first.\n",
      "  notions.loc[notions['Angles'] == temp_ang, 'Reward'] += rewards(stable_configuration_time(notions[notions['Angles'] == temp_ang]['Angles'].iloc[0]))\n"
     ]
    }
   ],
   "source": [
    "import random\n",
    "while (notions['Count'] <= 10 ).any(): \n",
    "    temp_ang = random.choices(notions['Angles'],weights=notions['Probabilities'])[0]\n",
    "    notions.loc[notions['Angles'] == temp_ang, 'Count'] += 1 \n",
    "    notions.loc[notions['Angles'] == temp_ang, 'Reward'] += rewards(stable_configuration_time(notions[notions['Angles'] == temp_ang]['Angles'].iloc[0]))"
   ]
  },
  {
   "cell_type": "code",
   "execution_count": 12,
   "id": "9af8e046-707f-4007-ab49-682132ca20a8",
   "metadata": {},
   "outputs": [],
   "source": [
    "temperature = 70\n",
    "exps = np.exp(notions['Reward'] / temperature)\n",
    "notions['Probabilities'] = (exps/sum(exps)).round(4)"
   ]
  },
  {
   "cell_type": "code",
   "execution_count": 14,
   "id": "0af845c7-8921-4de3-b938-ffc0b4833f56",
   "metadata": {},
   "outputs": [
    {
     "name": "stderr",
     "output_type": "stream",
     "text": [
      "C:\\Users\\kashy\\AppData\\Local\\Temp\\ipykernel_21144\\3897939707.py:6: FutureWarning: Setting an item of incompatible dtype is deprecated and will raise an error in a future version of pandas. Value '[5.93133096]' has dtype incompatible with int64, please explicitly cast to a compatible dtype first.\n",
      "  notions.loc[notions['Angles'] == temp_ang, '2Reward'] += rewards(stable_configuration_time(notions[notions['Angles'] == temp_ang]['Angles'].iloc[0]))\n"
     ]
    }
   ],
   "source": [
    "notions[\"2Count\"] = 0\n",
    "notions[\"2Reward\"] = 0\n",
    "while (notions['2Count'] <= + 10 ).any(): \n",
    "    temp_ang = random.choices(notions['Angles'],weights=notions['Probabilities'])[0]\n",
    "    notions.loc[notions['Angles'] == temp_ang, '2Count'] += 1 \n",
    "    notions.loc[notions['Angles'] == temp_ang, '2Reward'] += rewards(stable_configuration_time(notions[notions['Angles'] == temp_ang]['Angles'].iloc[0]))"
   ]
  },
  {
   "cell_type": "code",
   "execution_count": 15,
   "id": "ccb398ff-92c3-4fae-ad6c-30fbbcb739cc",
   "metadata": {},
   "outputs": [
    {
     "data": {
      "text/plain": [
       "90"
      ]
     },
     "execution_count": 15,
     "metadata": {},
     "output_type": "execute_result"
    }
   ],
   "source": [
    "#Greedy action\n",
    "Action = notions[notions['2Reward'] ==notions['2Reward'].max()]['Angles'].iloc[0]\n",
    "Action"
   ]
  },
  {
   "cell_type": "code",
   "execution_count": 18,
   "id": "fbf44474-4b1b-423b-b096-1376c786444c",
   "metadata": {},
   "outputs": [
    {
     "data": {
      "image/png": "[encoded data removed]",
      "text/plain": [
       "<Figure size 800x600 with 1 Axes>"
      ]
     },
     "metadata": {},
     "output_type": "display_data"
    }
   ],
   "source": [
    "import matplotlib.pyplot as plt\n",
    "\n",
    "# Plot Reward vs Angle after first round of training\n",
    "plt.figure(figsize=(8,6))\n",
    "plt.bar(notions['Angles'], notions['Reward'], color='skyblue')\n",
    "plt.xlabel('Angles (Degrees)')\n",
    "plt.ylabel('Rewards')\n",
    "plt.title('Reward vs Angle After First Round')\n",
    "plt.show()\n"
   ]
  },
  {
   "cell_type": "code",
   "execution_count": 19,
   "id": "f419995e-a543-4b86-ab2c-056ed0b31b46",
   "metadata": {},
   "outputs": [
    {
     "data": {
      "image/png": "[encoded data removed]",
      "text/plain": [
       "<Figure size 800x600 with 1 Axes>"
      ]
     },
     "metadata": {},
     "output_type": "display_data"
    }
   ],
   "source": [
    "# Plot Probabilities after first round of training\n",
    "plt.figure(figsize=(8,6))\n",
    "plt.bar(notions['Angles'], notions['Probabilities'], color='orange')\n",
    "plt.xlabel('Angles (Degrees)')\n",
    "plt.ylabel('Probabilities')\n",
    "plt.title('Probabilities vs Angle After First Round')\n",
    "plt.show()\n"
   ]
  },
  {
   "cell_type": "code",
   "execution_count": null,
   "id": "e7abd137-25d1-4c6a-99d0-2e2ff68f06c7",
   "metadata": {},
   "outputs": [],
   "source": [
    "# Cumulative rewards comparison\n",
    "plt.figure(figsize=(8,6))\n",
    "plt.plot(notions['Angles'], notions['Reward'], label='First Round Reward')\n",
    "plt.plot(notions['Angles'], notions['2Reward'], label='Second Round Reward', linestyle='--')\n",
    "plt.xlabel('Angles (Degrees)')\n",
    "plt.ylabel('Cumulative Rewards')\n",
    "plt.title('Cumulative Rewards for Each Angle')\n",
    "plt.legend()\n",
    "plt.show()\n"
   ]
  },
  {
   "cell_type": "code",
   "execution_count": null,
   "id": "e0d1490b-c918-4944-9004-38735311d26d",
   "metadata": {},
   "outputs": [],
   "source": []
  },
  {
   "cell_type": "code",
   "execution_count": null,
   "id": "e0d2ee25-f903-4ed5-9275-f4881bf8bb14",
   "metadata": {},
   "outputs": [],
   "source": []
  }
 ],
 "metadata": {
  "kernelspec": {
   "display_name": "Python 3 (ipykernel)",
   "language": "python",
   "name": "python3"
  },
  "language_info": {
   "codemirror_mode": {
    "name": "ipython",
    "version": 3
   },
   "file_extension": ".py",
   "mimetype": "text/x-python",
   "name": "python",
   "nbconvert_exporter": "python",
   "pygments_lexer": "ipython3",
   "version": "3.12.4"
  }
 },
 "nbformat": 4,
 "nbformat_minor": 5
}
